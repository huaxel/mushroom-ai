{
 "cells": [
  {
   "cell_type": "markdown",
   "metadata": {},
   "source": [
    "# Mushroom Classification - AI Essentials 2025 Assignment"
   ]
  },
  {
   "cell_type": "markdown",
   "metadata": {},
   "source": [
    "![Mushrooms](src/mushrooms.png)"
   ]
  },
  {
   "cell_type": "markdown",
   "metadata": {},
   "source": [
    "## Basis information"
   ]
  },
  {
   "cell_type": "markdown",
   "metadata": {},
   "source": [
    "### Author: Benjumea Moreno, Juan"
   ]
  },
  {
   "cell_type": "markdown",
   "metadata": {},
   "source": [
    "### Assignment:\n",
    "#### Goal:  \n",
    "Predict whether a mushroom is **poisonous** or **edible**.\n",
    "\n",
    "#### Parameters: \n",
    "Physical characteristics. The dataset is provided in the accompanying file 'mushroom.csv'. A full description of the data set can be found in the file 'metadata.txt'.\n",
    "\n",
    "#### Basic requirements:\n",
    "- Define the problem, analyze the data, and prepare the data for your model.\n",
    "- Train at least 3 models (e.g., decision trees, nearest neighbour, ...) to predict whether a mushroom is poisonous or edible. Motivate choices.\n",
    "- Optimize the model parameters settings.\n",
    "- Compare the best parameter settings for the models and estimate their errors on unseen data. Investigate the learning process critically (overfitting/underfitting). \n",
    "\n",
    "#### Optional extensions:\n",
    "- Build and host an API for your best performing model.\n",
    "- Try to combine multiple models.\n",
    "- Investigate whether all features are necessary to produce a good model."
   ]
  },
  {
   "cell_type": "markdown",
   "metadata": {},
   "source": [
    "### The dataset\n",
    "\n",
    "#### Basic info\n",
    "\n",
    "Classification Mushroom Data 2020: improvement and extension of the UC Irvine 1987 Mushroom Data Set. \n",
    "\n",
    "Primary data contains 173 mushroom species, secondary data 61069 hypotetical mushrooms based on those species. \n",
    "\n",
    "20 features, three quantitative and 17 categorical, 2 classes (poisonous or edible).\n",
    "\n",
    "#### Features\n",
    "\n",
    "##### Quantitative\n",
    "\n",
    "- cap-diameter: float number in cm\n",
    "- stem-height: float number in cm\n",
    "- stem-width: float number in mm\n",
    "\n",
    "##### Categorical\n",
    "\n",
    "**Related to cap**\n",
    "- cap-shape: ['bell', 'conical', 'convex', 'flat', 'knobbed', 'sunken']\n",
    "- cap-surface: ['fibrous', 'grooves', 'scaly', 'smooth', 'shiny', 'leathery', 'silky', 'sticky', 'wrinkled', 'fleshy']\n",
    "- cap-color: ['brown', 'buff', 'cinnamon', 'gray', 'green', 'pink', 'purple', 'red', 'white', 'yellow', 'orange', 'black']\n",
    "\n",
    "**Related to gill**\n",
    "\n",
    "- gill-attachment: ['adnate', 'adnexed', 'decurrent', 'free', 'sinuate', 'pores', 'none', 'unknown']\n",
    "- gill-spacing: ['close', 'distant', 'none']\n",
    "- gill-color: ['brown', 'buff', 'cinnamon', 'gray', 'green', 'pink', 'purple', 'red', 'white', 'yellow', 'orange', 'black']\n",
    "\n",
    "**Related to stem**\n",
    "- stem-root: ['bulbous', 'swollen', 'club', 'cup', 'equal', 'rhizomorphs', 'rooted']\n",
    "- stem-surface: ['fibrous', 'grooves', 'scaly', 'smooth', 'shiny', 'leathery', 'silky', 'sticky', 'wrinkled', 'fleshy']\n",
    "\n",
    "**Related to veil**\n",
    "\n",
    "- veil-type: ['partial', 'universal']\n",
    "- veil-color: ['brown', 'buff', 'cinnamon', 'gray', 'green', 'orange', 'pink', 'purple', 'red', 'white', 'yellow', 'black']\n",
    "\n",
    "**Related to ring**\n",
    "\n",
    "- has-ring: ['yes', 'no']\n",
    "- ring-type: ['evanescent', 'flaring', 'large', 'none', 'pendant']\n",
    "\n",
    "**Miscellaneous**\n",
    "- does-bruise-or-bleed: ['bruises-or-bleeding', 'no']\n",
    "- spore-print-color: ['black', 'brown', 'buff', 'chocolate', 'green', 'orange', 'purple', 'white', 'yellow']\n",
    "- habitat: ['grasses', 'leaves', 'meadows', 'paths', 'heaths', 'urban', 'waste', 'woods']\n",
    "- season: ['spring', 'summer', 'autumn', 'winter']\n"
   ]
  },
  {
   "cell_type": "markdown",
   "metadata": {},
   "source": [
    "### Approach\n",
    "\n",
    "1. Imports and Exploratory Data Analysis\n",
    "2. Preprocessing\n",
    "3. Create helper functions: pipeline creation, grid search, and learning curve\n",
    "4. Train, tune and evaluate models\n",
    "5. Extra analysis: feature selection and model combination\n",
    "6. Conclusions"
   ]
  },
  {
   "cell_type": "markdown",
   "metadata": {},
   "source": [
    "## 1. Imports and Exploratory Data Analysis"
   ]
  },
  {
   "cell_type": "code",
   "execution_count": 1,
   "metadata": {},
   "outputs": [],
   "source": [
    "# import basic libraries\n",
    "import pandas as pd\n",
    "import numpy as np\n",
    "import matplotlib.pyplot as plt\n",
    "import seaborn as sns\n",
    "import joblib\n",
    "\n",
    "# import preprocessing tools\n",
    "from sklearn.model_selection import train_test_split\n",
    "from sklearn.preprocessing import OneHotEncoder, OrdinalEncoder, StandardScaler\n",
    "from sklearn.compose import ColumnTransformer\n",
    "from sklearn.pipeline import Pipeline\n",
    "from sklearn.decomposition import PCA\n",
    "\n",
    "# import classifiers\n",
    "from sklearn.linear_model import LogisticRegression\n",
    "from sklearn.svm import LinearSVC\n",
    "\n",
    "from sklearn.neighbors import KNeighborsClassifier\n",
    "\n",
    "from sklearn.ensemble import RandomForestClassifier\n",
    "from sklearn.ensemble import ExtraTreesClassifier\n",
    "\n",
    "import xgboost as xgb\n",
    "from catboost import CatBoostClassifier\n",
    "from lightgbm import LGBMClassifier\n",
    "\n",
    "from sklearn.ensemble import StackingClassifier, VotingClassifier\n",
    "from sklearn.feature_selection import SelectKBest, mutual_info_classif, RFECV\n",
    "\n",
    "# hyperparameter tuning en model evaluation\n",
    "from sklearn.model_selection import GridSearchCV\n",
    "from sklearn.model_selection import learning_curve\n",
    "from sklearn.model_selection import cross_val_score\n",
    "from sklearn.metrics import accuracy_score, classification_report"
   ]
  },
  {
   "cell_type": "code",
   "execution_count": 2,
   "metadata": {},
   "outputs": [],
   "source": [
    "# import and shuffle the data\n",
    "mushroom = pd.read_csv(\"./data/mushroom.csv\", sep=\";\")"
   ]
  },
  {
   "cell_type": "code",
   "execution_count": 3,
   "metadata": {},
   "outputs": [
    {
     "data": {
      "application/vnd.microsoft.datawrangler.viewer.v0+json": {
       "columns": [
        {
         "name": "index",
         "rawType": "int64",
         "type": "integer"
        },
        {
         "name": "class",
         "rawType": "object",
         "type": "string"
        },
        {
         "name": "cap-diameter",
         "rawType": "float64",
         "type": "float"
        },
        {
         "name": "cap-shape",
         "rawType": "object",
         "type": "string"
        },
        {
         "name": "cap-surface",
         "rawType": "object",
         "type": "string"
        },
        {
         "name": "cap-color",
         "rawType": "object",
         "type": "string"
        },
        {
         "name": "does-bruise-or-bleed",
         "rawType": "object",
         "type": "string"
        },
        {
         "name": "gill-attachment",
         "rawType": "object",
         "type": "string"
        },
        {
         "name": "gill-spacing",
         "rawType": "object",
         "type": "unknown"
        },
        {
         "name": "gill-color",
         "rawType": "object",
         "type": "string"
        },
        {
         "name": "stem-height",
         "rawType": "float64",
         "type": "float"
        },
        {
         "name": "stem-width",
         "rawType": "float64",
         "type": "float"
        },
        {
         "name": "stem-root",
         "rawType": "object",
         "type": "string"
        },
        {
         "name": "stem-surface",
         "rawType": "object",
         "type": "string"
        },
        {
         "name": "stem-color",
         "rawType": "object",
         "type": "string"
        },
        {
         "name": "veil-type",
         "rawType": "object",
         "type": "string"
        },
        {
         "name": "veil-color",
         "rawType": "object",
         "type": "string"
        },
        {
         "name": "has-ring",
         "rawType": "object",
         "type": "string"
        },
        {
         "name": "ring-type",
         "rawType": "object",
         "type": "string"
        },
        {
         "name": "spore-print-color",
         "rawType": "object",
         "type": "unknown"
        },
        {
         "name": "habitat",
         "rawType": "object",
         "type": "string"
        },
        {
         "name": "season",
         "rawType": "object",
         "type": "string"
        }
       ],
       "ref": "13ce4896-0713-4062-aea7-1385725687d4",
       "rows": [
        [
         "0",
         "p",
         "15.26",
         "x",
         "g",
         "o",
         "f",
         "e",
         null,
         "w",
         "16.95",
         "17.09",
         "s",
         "y",
         "w",
         "u",
         "w",
         "t",
         "g",
         null,
         "d",
         "w"
        ],
        [
         "1",
         "p",
         "16.6",
         "x",
         "g",
         "o",
         "f",
         "e",
         null,
         "w",
         "17.99",
         "18.19",
         "s",
         "y",
         "w",
         "u",
         "w",
         "t",
         "g",
         null,
         "d",
         "u"
        ],
        [
         "2",
         "p",
         "14.07",
         "x",
         "g",
         "o",
         "f",
         "e",
         null,
         "w",
         "17.8",
         "17.74",
         "s",
         "y",
         "w",
         "u",
         "w",
         "t",
         "g",
         null,
         "d",
         "w"
        ],
        [
         "3",
         "p",
         "14.17",
         "f",
         "h",
         "e",
         "f",
         "e",
         null,
         "w",
         "15.77",
         "15.98",
         "s",
         "y",
         "w",
         "u",
         "w",
         "t",
         "p",
         null,
         "d",
         "w"
        ],
        [
         "4",
         "p",
         "14.64",
         "x",
         "h",
         "o",
         "f",
         "e",
         null,
         "w",
         "16.53",
         "17.2",
         "s",
         "y",
         "w",
         "u",
         "w",
         "t",
         "p",
         null,
         "d",
         "w"
        ]
       ],
       "shape": {
        "columns": 21,
        "rows": 5
       }
      },
      "text/html": [
       "<div>\n",
       "<style scoped>\n",
       "    .dataframe tbody tr th:only-of-type {\n",
       "        vertical-align: middle;\n",
       "    }\n",
       "\n",
       "    .dataframe tbody tr th {\n",
       "        vertical-align: top;\n",
       "    }\n",
       "\n",
       "    .dataframe thead th {\n",
       "        text-align: right;\n",
       "    }\n",
       "</style>\n",
       "<table border=\"1\" class=\"dataframe\">\n",
       "  <thead>\n",
       "    <tr style=\"text-align: right;\">\n",
       "      <th></th>\n",
       "      <th>class</th>\n",
       "      <th>cap-diameter</th>\n",
       "      <th>cap-shape</th>\n",
       "      <th>cap-surface</th>\n",
       "      <th>cap-color</th>\n",
       "      <th>does-bruise-or-bleed</th>\n",
       "      <th>gill-attachment</th>\n",
       "      <th>gill-spacing</th>\n",
       "      <th>gill-color</th>\n",
       "      <th>stem-height</th>\n",
       "      <th>...</th>\n",
       "      <th>stem-root</th>\n",
       "      <th>stem-surface</th>\n",
       "      <th>stem-color</th>\n",
       "      <th>veil-type</th>\n",
       "      <th>veil-color</th>\n",
       "      <th>has-ring</th>\n",
       "      <th>ring-type</th>\n",
       "      <th>spore-print-color</th>\n",
       "      <th>habitat</th>\n",
       "      <th>season</th>\n",
       "    </tr>\n",
       "  </thead>\n",
       "  <tbody>\n",
       "    <tr>\n",
       "      <th>0</th>\n",
       "      <td>p</td>\n",
       "      <td>15.26</td>\n",
       "      <td>x</td>\n",
       "      <td>g</td>\n",
       "      <td>o</td>\n",
       "      <td>f</td>\n",
       "      <td>e</td>\n",
       "      <td>NaN</td>\n",
       "      <td>w</td>\n",
       "      <td>16.95</td>\n",
       "      <td>...</td>\n",
       "      <td>s</td>\n",
       "      <td>y</td>\n",
       "      <td>w</td>\n",
       "      <td>u</td>\n",
       "      <td>w</td>\n",
       "      <td>t</td>\n",
       "      <td>g</td>\n",
       "      <td>NaN</td>\n",
       "      <td>d</td>\n",
       "      <td>w</td>\n",
       "    </tr>\n",
       "    <tr>\n",
       "      <th>1</th>\n",
       "      <td>p</td>\n",
       "      <td>16.60</td>\n",
       "      <td>x</td>\n",
       "      <td>g</td>\n",
       "      <td>o</td>\n",
       "      <td>f</td>\n",
       "      <td>e</td>\n",
       "      <td>NaN</td>\n",
       "      <td>w</td>\n",
       "      <td>17.99</td>\n",
       "      <td>...</td>\n",
       "      <td>s</td>\n",
       "      <td>y</td>\n",
       "      <td>w</td>\n",
       "      <td>u</td>\n",
       "      <td>w</td>\n",
       "      <td>t</td>\n",
       "      <td>g</td>\n",
       "      <td>NaN</td>\n",
       "      <td>d</td>\n",
       "      <td>u</td>\n",
       "    </tr>\n",
       "    <tr>\n",
       "      <th>2</th>\n",
       "      <td>p</td>\n",
       "      <td>14.07</td>\n",
       "      <td>x</td>\n",
       "      <td>g</td>\n",
       "      <td>o</td>\n",
       "      <td>f</td>\n",
       "      <td>e</td>\n",
       "      <td>NaN</td>\n",
       "      <td>w</td>\n",
       "      <td>17.80</td>\n",
       "      <td>...</td>\n",
       "      <td>s</td>\n",
       "      <td>y</td>\n",
       "      <td>w</td>\n",
       "      <td>u</td>\n",
       "      <td>w</td>\n",
       "      <td>t</td>\n",
       "      <td>g</td>\n",
       "      <td>NaN</td>\n",
       "      <td>d</td>\n",
       "      <td>w</td>\n",
       "    </tr>\n",
       "    <tr>\n",
       "      <th>3</th>\n",
       "      <td>p</td>\n",
       "      <td>14.17</td>\n",
       "      <td>f</td>\n",
       "      <td>h</td>\n",
       "      <td>e</td>\n",
       "      <td>f</td>\n",
       "      <td>e</td>\n",
       "      <td>NaN</td>\n",
       "      <td>w</td>\n",
       "      <td>15.77</td>\n",
       "      <td>...</td>\n",
       "      <td>s</td>\n",
       "      <td>y</td>\n",
       "      <td>w</td>\n",
       "      <td>u</td>\n",
       "      <td>w</td>\n",
       "      <td>t</td>\n",
       "      <td>p</td>\n",
       "      <td>NaN</td>\n",
       "      <td>d</td>\n",
       "      <td>w</td>\n",
       "    </tr>\n",
       "    <tr>\n",
       "      <th>4</th>\n",
       "      <td>p</td>\n",
       "      <td>14.64</td>\n",
       "      <td>x</td>\n",
       "      <td>h</td>\n",
       "      <td>o</td>\n",
       "      <td>f</td>\n",
       "      <td>e</td>\n",
       "      <td>NaN</td>\n",
       "      <td>w</td>\n",
       "      <td>16.53</td>\n",
       "      <td>...</td>\n",
       "      <td>s</td>\n",
       "      <td>y</td>\n",
       "      <td>w</td>\n",
       "      <td>u</td>\n",
       "      <td>w</td>\n",
       "      <td>t</td>\n",
       "      <td>p</td>\n",
       "      <td>NaN</td>\n",
       "      <td>d</td>\n",
       "      <td>w</td>\n",
       "    </tr>\n",
       "  </tbody>\n",
       "</table>\n",
       "<p>5 rows × 21 columns</p>\n",
       "</div>"
      ],
      "text/plain": [
       "  class  cap-diameter cap-shape cap-surface cap-color does-bruise-or-bleed  \\\n",
       "0     p         15.26         x           g         o                    f   \n",
       "1     p         16.60         x           g         o                    f   \n",
       "2     p         14.07         x           g         o                    f   \n",
       "3     p         14.17         f           h         e                    f   \n",
       "4     p         14.64         x           h         o                    f   \n",
       "\n",
       "  gill-attachment gill-spacing gill-color  stem-height  ...  stem-root  \\\n",
       "0               e          NaN          w        16.95  ...          s   \n",
       "1               e          NaN          w        17.99  ...          s   \n",
       "2               e          NaN          w        17.80  ...          s   \n",
       "3               e          NaN          w        15.77  ...          s   \n",
       "4               e          NaN          w        16.53  ...          s   \n",
       "\n",
       "  stem-surface stem-color veil-type veil-color has-ring ring-type  \\\n",
       "0            y          w         u          w        t         g   \n",
       "1            y          w         u          w        t         g   \n",
       "2            y          w         u          w        t         g   \n",
       "3            y          w         u          w        t         p   \n",
       "4            y          w         u          w        t         p   \n",
       "\n",
       "  spore-print-color habitat season  \n",
       "0               NaN       d      w  \n",
       "1               NaN       d      u  \n",
       "2               NaN       d      w  \n",
       "3               NaN       d      w  \n",
       "4               NaN       d      w  \n",
       "\n",
       "[5 rows x 21 columns]"
      ]
     },
     "execution_count": 3,
     "metadata": {},
     "output_type": "execute_result"
    }
   ],
   "source": [
    "mushroom.head()"
   ]
  },
  {
   "cell_type": "code",
   "execution_count": 4,
   "metadata": {},
   "outputs": [
    {
     "name": "stdout",
     "output_type": "stream",
     "text": [
      "<class 'pandas.core.frame.DataFrame'>\n",
      "RangeIndex: 61069 entries, 0 to 61068\n",
      "Data columns (total 21 columns):\n",
      " #   Column                Non-Null Count  Dtype  \n",
      "---  ------                --------------  -----  \n",
      " 0   class                 61069 non-null  object \n",
      " 1   cap-diameter          61069 non-null  float64\n",
      " 2   cap-shape             61069 non-null  object \n",
      " 3   cap-surface           46949 non-null  object \n",
      " 4   cap-color             61069 non-null  object \n",
      " 5   does-bruise-or-bleed  61069 non-null  object \n",
      " 6   gill-attachment       51185 non-null  object \n",
      " 7   gill-spacing          36006 non-null  object \n",
      " 8   gill-color            61069 non-null  object \n",
      " 9   stem-height           61069 non-null  float64\n",
      " 10  stem-width            61069 non-null  float64\n",
      " 11  stem-root             9531 non-null   object \n",
      " 12  stem-surface          22945 non-null  object \n",
      " 13  stem-color            61069 non-null  object \n",
      " 14  veil-type             3177 non-null   object \n",
      " 15  veil-color            7413 non-null   object \n",
      " 16  has-ring              61069 non-null  object \n",
      " 17  ring-type             58598 non-null  object \n",
      " 18  spore-print-color     6354 non-null   object \n",
      " 19  habitat               61069 non-null  object \n",
      " 20  season                61069 non-null  object \n",
      "dtypes: float64(3), object(18)\n",
      "memory usage: 9.8+ MB\n"
     ]
    },
    {
     "data": {
      "application/vnd.microsoft.datawrangler.viewer.v0+json": {
       "columns": [
        {
         "name": "index",
         "rawType": "object",
         "type": "string"
        },
        {
         "name": "cap-diameter",
         "rawType": "float64",
         "type": "float"
        },
        {
         "name": "stem-height",
         "rawType": "float64",
         "type": "float"
        },
        {
         "name": "stem-width",
         "rawType": "float64",
         "type": "float"
        }
       ],
       "ref": "bd692b20-4d0f-4891-8275-3b4d0863bf66",
       "rows": [
        [
         "count",
         "61069.0",
         "61069.0",
         "61069.0"
        ],
        [
         "mean",
         "6.733854492459349",
         "6.581538260000982",
         "12.149410011626195"
        ],
        [
         "std",
         "5.26484494706298",
         "3.3700168612896517",
         "10.035955043117532"
        ],
        [
         "min",
         "0.38",
         "0.0",
         "0.0"
        ],
        [
         "25%",
         "3.48",
         "4.64",
         "5.21"
        ],
        [
         "50%",
         "5.86",
         "5.95",
         "10.19"
        ],
        [
         "75%",
         "8.54",
         "7.74",
         "16.57"
        ],
        [
         "max",
         "62.34",
         "33.92",
         "103.91"
        ]
       ],
       "shape": {
        "columns": 3,
        "rows": 8
       }
      },
      "text/html": [
       "<div>\n",
       "<style scoped>\n",
       "    .dataframe tbody tr th:only-of-type {\n",
       "        vertical-align: middle;\n",
       "    }\n",
       "\n",
       "    .dataframe tbody tr th {\n",
       "        vertical-align: top;\n",
       "    }\n",
       "\n",
       "    .dataframe thead th {\n",
       "        text-align: right;\n",
       "    }\n",
       "</style>\n",
       "<table border=\"1\" class=\"dataframe\">\n",
       "  <thead>\n",
       "    <tr style=\"text-align: right;\">\n",
       "      <th></th>\n",
       "      <th>cap-diameter</th>\n",
       "      <th>stem-height</th>\n",
       "      <th>stem-width</th>\n",
       "    </tr>\n",
       "  </thead>\n",
       "  <tbody>\n",
       "    <tr>\n",
       "      <th>count</th>\n",
       "      <td>61069.000000</td>\n",
       "      <td>61069.000000</td>\n",
       "      <td>61069.000000</td>\n",
       "    </tr>\n",
       "    <tr>\n",
       "      <th>mean</th>\n",
       "      <td>6.733854</td>\n",
       "      <td>6.581538</td>\n",
       "      <td>12.149410</td>\n",
       "    </tr>\n",
       "    <tr>\n",
       "      <th>std</th>\n",
       "      <td>5.264845</td>\n",
       "      <td>3.370017</td>\n",
       "      <td>10.035955</td>\n",
       "    </tr>\n",
       "    <tr>\n",
       "      <th>min</th>\n",
       "      <td>0.380000</td>\n",
       "      <td>0.000000</td>\n",
       "      <td>0.000000</td>\n",
       "    </tr>\n",
       "    <tr>\n",
       "      <th>25%</th>\n",
       "      <td>3.480000</td>\n",
       "      <td>4.640000</td>\n",
       "      <td>5.210000</td>\n",
       "    </tr>\n",
       "    <tr>\n",
       "      <th>50%</th>\n",
       "      <td>5.860000</td>\n",
       "      <td>5.950000</td>\n",
       "      <td>10.190000</td>\n",
       "    </tr>\n",
       "    <tr>\n",
       "      <th>75%</th>\n",
       "      <td>8.540000</td>\n",
       "      <td>7.740000</td>\n",
       "      <td>16.570000</td>\n",
       "    </tr>\n",
       "    <tr>\n",
       "      <th>max</th>\n",
       "      <td>62.340000</td>\n",
       "      <td>33.920000</td>\n",
       "      <td>103.910000</td>\n",
       "    </tr>\n",
       "  </tbody>\n",
       "</table>\n",
       "</div>"
      ],
      "text/plain": [
       "       cap-diameter   stem-height    stem-width\n",
       "count  61069.000000  61069.000000  61069.000000\n",
       "mean       6.733854      6.581538     12.149410\n",
       "std        5.264845      3.370017     10.035955\n",
       "min        0.380000      0.000000      0.000000\n",
       "25%        3.480000      4.640000      5.210000\n",
       "50%        5.860000      5.950000     10.190000\n",
       "75%        8.540000      7.740000     16.570000\n",
       "max       62.340000     33.920000    103.910000"
      ]
     },
     "execution_count": 4,
     "metadata": {},
     "output_type": "execute_result"
    }
   ],
   "source": [
    "mushroom.info()\n",
    "mushroom.describe()"
   ]
  },
  {
   "cell_type": "code",
   "execution_count": 5,
   "metadata": {},
   "outputs": [
    {
     "data": {
      "application/vnd.microsoft.datawrangler.viewer.v0+json": {
       "columns": [
        {
         "name": "index",
         "rawType": "object",
         "type": "string"
        },
        {
         "name": "0",
         "rawType": "int64",
         "type": "integer"
        }
       ],
       "ref": "745c5965-ef91-4654-9e8a-10245d7a20b2",
       "rows": [
        [
         "class",
         "0"
        ],
        [
         "cap-diameter",
         "0"
        ],
        [
         "cap-shape",
         "0"
        ],
        [
         "cap-surface",
         "14120"
        ],
        [
         "cap-color",
         "0"
        ],
        [
         "does-bruise-or-bleed",
         "0"
        ],
        [
         "gill-attachment",
         "9884"
        ],
        [
         "gill-spacing",
         "25063"
        ],
        [
         "gill-color",
         "0"
        ],
        [
         "stem-height",
         "0"
        ],
        [
         "stem-width",
         "0"
        ],
        [
         "stem-root",
         "51538"
        ],
        [
         "stem-surface",
         "38124"
        ],
        [
         "stem-color",
         "0"
        ],
        [
         "veil-type",
         "57892"
        ],
        [
         "veil-color",
         "53656"
        ],
        [
         "has-ring",
         "0"
        ],
        [
         "ring-type",
         "2471"
        ],
        [
         "spore-print-color",
         "54715"
        ],
        [
         "habitat",
         "0"
        ],
        [
         "season",
         "0"
        ]
       ],
       "shape": {
        "columns": 1,
        "rows": 21
       }
      },
      "text/plain": [
       "class                       0\n",
       "cap-diameter                0\n",
       "cap-shape                   0\n",
       "cap-surface             14120\n",
       "cap-color                   0\n",
       "does-bruise-or-bleed        0\n",
       "gill-attachment          9884\n",
       "gill-spacing            25063\n",
       "gill-color                  0\n",
       "stem-height                 0\n",
       "stem-width                  0\n",
       "stem-root               51538\n",
       "stem-surface            38124\n",
       "stem-color                  0\n",
       "veil-type               57892\n",
       "veil-color              53656\n",
       "has-ring                    0\n",
       "ring-type                2471\n",
       "spore-print-color       54715\n",
       "habitat                     0\n",
       "season                      0\n",
       "dtype: int64"
      ]
     },
     "execution_count": 5,
     "metadata": {},
     "output_type": "execute_result"
    }
   ],
   "source": [
    "# missing values\n",
    "mushroom.isnull().sum()"
   ]
  },
  {
   "cell_type": "code",
   "execution_count": 6,
   "metadata": {},
   "outputs": [],
   "source": [
    "# convert object columns to categorical\n",
    "categorical_columns = mushroom.select_dtypes(include=[\"object\"]).columns\n",
    "mushroom[categorical_columns] = mushroom[categorical_columns].apply(\n",
    "    lambda col: col.astype(\"category\")\n",
    ")"
   ]
  },
  {
   "cell_type": "code",
   "execution_count": 7,
   "metadata": {},
   "outputs": [
    {
     "data": {
      "image/png": "[encoded data removed]",
      "text/plain": [
       "<Figure size 640x480 with 1 Axes>"
      ]
     },
     "metadata": {},
     "output_type": "display_data"
    }
   ],
   "source": [
    "# balance between edible and poisonous mushrooms\n",
    "mushroom[\"class\"].value_counts().plot(\n",
    "    kind=\"bar\", title=\"Class distribution (Edible vs Poisonous)\"\n",
    ")\n",
    "plt.show()"
   ]
  },
  {
   "cell_type": "code",
   "execution_count": 8,
   "metadata": {},
   "outputs": [
    {
     "data": {
      "image/png": "[encoded data removed]",
      "text/plain": [
       "<Figure size 640x480 with 1 Axes>"
      ]
     },
     "metadata": {},
     "output_type": "display_data"
    },
    {
     "data": {
      "image/png": "[encoded data removed]",
      "text/plain": [
       "<Figure size 640x480 with 1 Axes>"
      ]
     },
     "metadata": {},
     "output_type": "display_data"
    },
    {
     "data": {
      "image/png": "[encoded data removed]",
      "text/plain": [
       "<Figure size 640x480 with 1 Axes>"
      ]
     },
     "metadata": {},
     "output_type": "display_data"
    },
    {
     "data": {
      "image/png": "[encoded data removed]",
      "text/plain": [
       "<Figure size 640x480 with 1 Axes>"
      ]
     },
     "metadata": {},
     "output_type": "display_data"
    },
    {
     "data": {
      "image/png": "[encoded data removed]",
      "text/plain": [
       "<Figure size 640x480 with 1 Axes>"
      ]
     },
     "metadata": {},
     "output_type": "display_data"
    }
   ],
   "source": [
    "# feature plots\n",
    "feature_cols = mushroom.columns.drop(\"class\")\n",
    "categorical_cols = mushroom[feature_cols].select_dtypes(include=[\"category\"]).columns.tolist()\n",
    "numerical_cols = mushroom[feature_cols].select_dtypes(include=[\"float64\"]).columns.tolist()\n",
    "\n",
    "# eerste 5 categorische kolommen plotten\n",
    "for col in categorical_cols[:5]:\n",
    "    sns.countplot(data=mushroom, x=col, hue=\"class\")\n",
    "    plt.title(f\"Class distribution for {col}\")\n",
    "    plt.show()"
   ]
  },
  {
   "cell_type": "markdown",
   "metadata": {},
   "source": [
    "## 2. Preprocessing "
   ]
  },
  {
   "cell_type": "code",
   "execution_count": 9,
   "metadata": {},
   "outputs": [],
   "source": [
    "# mapping van target class naar 0 eetbaar en 1 giftig\n",
    "mushroom[\"class\"] = mushroom[\"class\"].map({\"e\": 0, \"p\": 1})\n",
    "\n",
    "# splitsen in features en target\n",
    "X = mushroom[feature_cols]\n",
    "y = mushroom[\"class\"]\n",
    "\n",
    "# splitsen in train en test set\n",
    "X_train, X_test, y_train, y_test = train_test_split(\n",
    "    X, y, test_size=0.2, stratify=y, random_state=42\n",
    ")"
   ]
  },
  {
   "cell_type": "markdown",
   "metadata": {},
   "source": [
    "## 3. Helper Functions: Pipeline Creation, Grid Search, and Learning Curve"
   ]
  },
  {
   "cell_type": "markdown",
   "metadata": {},
   "source": [
    "To make the notebook modular and easier to maintain, I implemented reusable functions for:\n",
    "- Pipeline creation\n",
    "- Hyperparameter tuning (GridSearchCV)\n",
    "- Learning curve plotting"
   ]
  },
  {
   "cell_type": "code",
   "execution_count": 10,
   "metadata": {},
   "outputs": [],
   "source": [
    "def create_pipeline(\n",
    "    numerical_cols,\n",
    "    categorical_cols,\n",
    "    classifier,\n",
    "    encoder_type=\"onehot\",\n",
    "    use_pca=False,\n",
    "    n_components=2,\n",
    "):\n",
    "    \"\"\"\n",
    "    Builds a reusable sklearn Pipeline for preprocessing and classification.\n",
    "\n",
    "    The pipeline applies the following steps:\n",
    "    - Standard scaling for numerical features.\n",
    "    - Encoding of categorical features (OneHot or Ordinal).\n",
    "    - Optional PCA for dimensionality reduction.\n",
    "    - Final classification using the specified classifier.\n",
    "\n",
    "    Args:\n",
    "        numerical_cols (list of str): Names of numerical features.\n",
    "        categorical_cols (list of str): Names of categorical features.\n",
    "        classifier (sklearn-compatible classifier): Classifier to include in the pipeline.\n",
    "        encoder_type (str, optional): Encoding method for categorical features.\n",
    "                                      Must be 'onehot' or 'ordinal'. Defaults to 'onehot'.\n",
    "        use_pca (bool, optional): Whether to include PCA in the pipeline. Defaults to False.\n",
    "        n_components (int, optional): Number of PCA components to retain (if use_pca=True). Defaults to 2.\n",
    "\n",
    "    Raises:\n",
    "        ValueError: If encoder_type is not 'onehot' or 'ordinal'.\n",
    "\n",
    "    Returns:\n",
    "        sklearn.pipeline.Pipeline: Configured sklearn Pipeline object.\n",
    "    \"\"\"\n",
    "\n",
    "    # Kies Encoder\n",
    "    if encoder_type == \"onehot\":\n",
    "        cat_encoder = OneHotEncoder(handle_unknown=\"ignore\")\n",
    "    elif encoder_type == \"ordinal\":\n",
    "        cat_encoder = OrdinalEncoder(\n",
    "            handle_unknown=\"use_encoded_value\", unknown_value=-1\n",
    "        )\n",
    "    else:\n",
    "        raise ValueError(f\"Unknown encoder type: {encoder_type}\")\n",
    "\n",
    "    # Kies preprocessor\n",
    "    preprocessor = ColumnTransformer(\n",
    "        transformers=[\n",
    "            (\"num\", StandardScaler(), numerical_cols),\n",
    "            (\"cat\", cat_encoder, categorical_cols),\n",
    "        ]\n",
    "    )\n",
    "\n",
    "    # Pipeline stappen\n",
    "    steps = [(\"preprocessor\", preprocessor)]\n",
    "\n",
    "    # PCA optie\n",
    "    if use_pca:\n",
    "        steps.append((\"pca\", PCA(n_components=n_components)))\n",
    "\n",
    "    # Classifier toevoegen\n",
    "    steps.append((\"classifier\", classifier))\n",
    "\n",
    "    pipeline = Pipeline(steps=steps)\n",
    "\n",
    "    return pipeline"
   ]
  },
  {
   "cell_type": "code",
   "execution_count": 11,
   "metadata": {},
   "outputs": [],
   "source": [
    "def run_grid_search(\n",
    "    pipeline,\n",
    "    param_grid,\n",
    "    X_train,\n",
    "    y_train,\n",
    "    cv=5,\n",
    "    scoring=\"accuracy\",\n",
    "    n_jobs=-1,\n",
    "    verbose=2,\n",
    "):\n",
    "    \"\"\"\n",
    "    Performs hyperparameter tuning using GridSearchCV.\n",
    "\n",
    "    The function runs GridSearchCV on the provided pipeline with the specified hyperparameter grid,\n",
    "    and prints the best parameters and cross-validation score.\n",
    "\n",
    "    Args:\n",
    "        pipeline (sklearn.pipeline.Pipeline): Pipeline to optimize.\n",
    "        param_grid (dict): Dictionary of hyperparameters to search.\n",
    "        X_train (array-like or DataFrame): Training features.\n",
    "        y_train (array-like or Series): Training target.\n",
    "        cv (int, optional): Number of cross-validation folds. Defaults to 5.\n",
    "        scoring (str, optional): Scoring metric. Defaults to 'accuracy'.\n",
    "        n_jobs (int, optional): Number of parallel jobs. Defaults to -1 (use all cores).\n",
    "        verbose (int, optional): Verbosity level for GridSearchCV. Defaults to 1.\n",
    "\n",
    "    Returns:\n",
    "        tuple: (fitted GridSearchCV object, best_params (dict), best_score (float))\n",
    "    \"\"\"\n",
    "\n",
    "    grid_search = GridSearchCV(\n",
    "        pipeline, param_grid, cv=cv, scoring=scoring, n_jobs=n_jobs, verbose=verbose\n",
    "    )\n",
    "    grid_search.fit(X_train, y_train)\n",
    "\n",
    "    best_params = grid_search.best_params_\n",
    "    best_score = grid_search.best_score_\n",
    "\n",
    "    return grid_search, best_params, best_score"
   ]
  },
  {
   "cell_type": "code",
   "execution_count": 12,
   "metadata": {},
   "outputs": [],
   "source": [
    "def plot_learning_curve(\n",
    "    estimator, X_train, y_train, title, cv=5, scoring=\"accuracy\", n_jobs=-1\n",
    "):\n",
    "    \"\"\"\n",
    "    Plots the learning curve for a given estimator.\n",
    "\n",
    "    The function computes and visualizes how the model performance evolves\n",
    "    as the size of the training set increases.\n",
    "\n",
    "    Args:\n",
    "        estimator (sklearn estimator or pipeline): The model to evaluate.\n",
    "        X_train (array-like or DataFrame): Training features.\n",
    "        y_train (array-like or Series): Training target.\n",
    "        title (str): Title of the plot.\n",
    "        cv (int, optional): Number of cross-validation folds. Defaults to 5.\n",
    "        scoring (str, optional): Scoring metric. Defaults to 'accuracy'.\n",
    "        n_jobs (int, optional): Number of parallel jobs. Defaults to -1 (use all cores).\n",
    "\n",
    "    Returns:\n",
    "        None. Displays the learning curve plot.\n",
    "    \"\"\"\n",
    "    train_sizes, train_scores, test_scores = learning_curve(\n",
    "        estimator,\n",
    "        X_train,\n",
    "        y_train,\n",
    "        cv=cv,\n",
    "        scoring=scoring,\n",
    "        train_sizes=np.linspace(0.1, 1.0, 5),\n",
    "        n_jobs=n_jobs,\n",
    "        shuffle=True,\n",
    "        random_state=42,\n",
    "    )\n",
    "\n",
    "    train_scores_mean = np.mean(train_scores, axis=1)\n",
    "    test_scores_mean = np.mean(test_scores, axis=1)\n",
    "\n",
    "    plt.figure(figsize=(10, 6))\n",
    "    plt.title(title)\n",
    "    plt.plot(train_sizes, train_scores_mean, \"o-\", color=\"r\", label=\"Training score\")\n",
    "    plt.plot(\n",
    "        train_sizes, test_scores_mean, \"o-\", color=\"g\", label=\"Cross-validation score\"\n",
    "    )\n",
    "    plt.xlabel(\"Training examples\")\n",
    "    plt.ylabel(\"Accuracy\")\n",
    "    plt.legend(loc=\"best\")\n",
    "    plt.grid()\n",
    "    plt.show()"
   ]
  },
  {
   "cell_type": "markdown",
   "metadata": {},
   "source": [
    "## 4. Model Training and Optimization"
   ]
  },
  {
   "cell_type": "markdown",
   "metadata": {},
   "source": [
    "### 4.1 Pipelines per model \n",
    "To ensure modularity and consistency, all models were built as sklearn Pipelines with preprocessing and classifier steps. \n",
    "The pipelines were stored in a dictionary for easy iteration, tuning, and evaluation."
   ]
  },
  {
   "cell_type": "code",
   "execution_count": 13,
   "metadata": {},
   "outputs": [],
   "source": [
    "# Logistic Regression\n",
    "pipeline_lr = create_pipeline(\n",
    "    numerical_cols,\n",
    "    categorical_cols,\n",
    "    classifier=LogisticRegression(max_iter=1000),\n",
    "    encoder_type=\"onehot\",\n",
    "    use_pca=True,\n",
    "    n_components=10,\n",
    ")\n",
    "\n",
    "# SVC\n",
    "pipeline_svc = create_pipeline(\n",
    "    numerical_cols,\n",
    "    categorical_cols,\n",
    "    classifier=LinearSVC(max_iter=1000),\n",
    "    encoder_type=\"onehot\",\n",
    ")\n",
    "\n",
    "# KNN\n",
    "pipeline_knn = create_pipeline(\n",
    "    numerical_cols,\n",
    "    categorical_cols,\n",
    "    classifier=KNeighborsClassifier(),\n",
    "    encoder_type=\"onehot\",\n",
    ")\n",
    "\n",
    "# Random Forest\n",
    "pipeline_rf = create_pipeline(\n",
    "    numerical_cols,\n",
    "    categorical_cols,\n",
    "    classifier=RandomForestClassifier(random_state=42),\n",
    "    encoder_type=\"ordinal\",\n",
    ")\n",
    "\n",
    "# Extra Trees\n",
    "pipeline_et = create_pipeline(\n",
    "    numerical_cols,\n",
    "    categorical_cols,\n",
    "    classifier=ExtraTreesClassifier(random_state=42),\n",
    "    encoder_type=\"ordinal\",\n",
    ")\n",
    "\n",
    "# XGBoost\n",
    "pipeline_xgb = create_pipeline(\n",
    "    numerical_cols,\n",
    "    categorical_cols,\n",
    "    classifier=xgb.XGBClassifier(use_label_encoder=False, eval_metric=\"logloss\"),\n",
    "    encoder_type=\"ordinal\",\n",
    ")\n",
    "\n",
    "# CatBoost\n",
    "pipeline_cb = create_pipeline(\n",
    "    numerical_cols,\n",
    "    categorical_cols,\n",
    "    classifier=CatBoostClassifier(),\n",
    "    encoder_type=\"ordinal\",\n",
    ")\n",
    "\n",
    "# LGBM\n",
    "pipeline_lgbm = create_pipeline(\n",
    "    numerical_cols,\n",
    "    categorical_cols,\n",
    "    classifier=LGBMClassifier(),\n",
    "    encoder_type=\"ordinal\",\n",
    ")\n",
    "\n",
    "# Dict met pipelines\n",
    "pipelines = {\n",
    "    # linear models\n",
    "    \"Logistic Regression\": pipeline_lr,\n",
    "    \"SVC\": pipeline_svc,\n",
    "    # instance based\n",
    "    \"KNN\": pipeline_knn,\n",
    "    # ensemble trees\n",
    "    \"Random Forest\": pipeline_rf,\n",
    "    \"Extra Trees\": pipeline_et,\n",
    "    # boosting\n",
    "    \"XGBoost\": pipeline_xgb,\n",
    "    \"CatBoost\": pipeline_cb,\n",
    "    \"LGBM\": pipeline_lgbm,\n",
    "}"
   ]
  },
  {
   "cell_type": "markdown",
   "metadata": {},
   "source": [
    "### 4.2 Hyperparameters per model\n",
    "To optimize each model, I defined a parameter grid for each pipeline. These grids were used in combination with GridSearchCV to find the best hyperparameters."
   ]
  },
  {
   "cell_type": "code",
   "execution_count": 14,
   "metadata": {},
   "outputs": [],
   "source": [
    "param_grids = {\n",
    "    \"Logistic Regression\": {\n",
    "        \"classifier__C\": [1],\n",
    "        \"classifier__solver\": [\"saga\"],\n",
    "        \"classifier__max_iter\": [100],\n",
    "    },\n",
    "    \"LinearSVC\": {\"classifier__C\": [0.1, 1.0, 10.0]},\n",
    "    \"KNN\": {\"classifier__n_neighbors\": [3, 5, 7, 9]},\n",
    "    \"Random Forest\": {\n",
    "        \"classifier__n_estimators\": [100, 200],\n",
    "        \"classifier__max_depth\": [None, 5, 10],\n",
    "    },\n",
    "    \"Extra Trees\": {\n",
    "        \"classifier__n_estimators\": [100, 200],\n",
    "        \"classifier__max_depth\": [5, 10, None],\n",
    "    },\n",
    "    \"XGBoost\": {\n",
    "        \"classifier__n_estimators\": [100, 200],\n",
    "        \"classifier__max_depth\": [3, 5, 7],\n",
    "        \"classifier__learning_rate\": [0.01, 0.1, 0.2],\n",
    "    },\n",
    "    \"CatBoost\": {\n",
    "        \"classifier__iterations\": [100, 200],\n",
    "        \"classifier__depth\": [4, 6, 8],\n",
    "        \"classifier__learning_rate\": [0.01, 0.1, 0.2],\n",
    "    },\n",
    "    \"LightGBM\": {\n",
    "        \"classifier__n_estimators\": [100, 200],\n",
    "        \"classifier__max_depth\": [5, 10, -1],\n",
    "        \"classifier__learning_rate\": [0.01, 0.1, 0.2],\n",
    "    },\n",
    "}"
   ]
  },
  {
   "cell_type": "markdown",
   "metadata": {},
   "source": [
    "### 4.3 Model training, hyperparameter tuning and evaluation\n",
    "In this section, I perform hyperparameter tuning with GridSearchCV for all models, \n",
    "plot learning curves to analyze generalization performance, \n",
    "and evaluate each tuned model on the test set. \n",
    "\n",
    "The results are stored in a dictionary for easy comparison."
   ]
  },
  {
   "cell_type": "code",
   "execution_count": null,
   "metadata": {},
   "outputs": [
    {
     "name": "stdout",
     "output_type": "stream",
     "text": [
      "======= Logistic Regression ========\n",
      "Fitting 3 folds for each of 1 candidates, totalling 3 fits\n",
      "[CV] END classifier__C=1, classifier__max_iter=100, classifier__solver=saga; total time=   0.3s\n",
      "[CV] END classifier__C=1, classifier__max_iter=100, classifier__solver=saga; total time=   0.3s\n",
      "[CV] END classifier__C=1, classifier__max_iter=100, classifier__solver=saga; total time=   0.3s\n"
     ]
    },
    {
     "data": {
      "image/png": "[encoded data removed]",
      "text/plain": [
       "<Figure size 1000x600 with 1 Axes>"
      ]
     },
     "metadata": {},
     "output_type": "display_data"
    },
    {
     "name": "stdout",
     "output_type": "stream",
     "text": [
      "Test Accuracy Logistic Regression: 0.6002947437366956\n",
      "              precision    recall  f1-score   support\n",
      "\n",
      "           0       0.57      0.42      0.48      5436\n",
      "           1       0.62      0.74      0.67      6778\n",
      "\n",
      "    accuracy                           0.60     12214\n",
      "   macro avg       0.59      0.58      0.58     12214\n",
      "weighted avg       0.59      0.60      0.59     12214\n",
      "\n",
      "\n",
      "======= SVC ========\n",
      "Fout bij model SVC: 'SVC'\n",
      "======= KNN ========\n",
      "Fitting 3 folds for each of 4 candidates, totalling 12 fits\n"
     ]
    }
   ],
   "source": [
    "# Grid search + plot learning curve van alle modelle\n",
    "results = {}\n",
    "\n",
    "for name, pipe in pipelines.items():\n",
    "    print(f\"======= {name} ========\")\n",
    "    try:\n",
    "        param_grid = param_grids[name]\n",
    "        grid, best_params, best_score = run_grid_search(\n",
    "            pipe, param_grid, X_train, y_train, cv=3\n",
    "        )\n",
    "\n",
    "        plot_learning_curve(\n",
    "            grid.best_estimator_, X_train, y_train, f\"Learning Curve - {name}\"\n",
    "        )\n",
    "\n",
    "        # Evaluate model on test set after hyperparameter tuning\n",
    "        y_pred = grid.best_estimator_.predict(X_test)\n",
    "        test_acc = accuracy_score(y_test, y_pred)\n",
    "\n",
    "        print(f\"Test Accuracy {name}: {test_acc}\")\n",
    "        print(classification_report(y_test, y_pred))\n",
    "        print()\n",
    "\n",
    "        # Save results\n",
    "        results[name] = {\n",
    "            \"best_estimator\": grid.best_estimator_,\n",
    "            \"best_params\": best_params,\n",
    "            \"best_cv_score\": best_score,\n",
    "            \"test_accuracy\": test_acc,\n",
    "        }\n",
    "    except Exception as e:\n",
    "        print(f\"Fout bij model {name}: {e}\")\n",
    "        continue"
   ]
  },
  {
   "cell_type": "code",
   "execution_count": null,
   "metadata": {},
   "outputs": [],
   "source": [
    "# Create DataFrame from results dict\n",
    "df_results = pd.DataFrame(\n",
    "    [\n",
    "        {\n",
    "            \"Model\": name,\n",
    "            \"Best CV Score\": result[\"best_cv_score\"],\n",
    "            \"Test Accuracy\": result[\"test_accuracy\"],\n",
    "        }\n",
    "        for name, result in results.items()\n",
    "    ]\n",
    ")\n",
    "\n",
    "# Sort for ranking\n",
    "df_results = df_results.sort_values(\"Test Accuracy\", ascending=False).reset_index(\n",
    "    drop=True\n",
    ")\n",
    "\n",
    "# Display ranked table\n",
    "print(\"=== Model ranking after hyperparameter tuning ===\")\n",
    "display(df_results)"
   ]
  },
  {
   "cell_type": "markdown",
   "metadata": {},
   "source": [
    "### 4.4 Deep hyperparameter tuning for top 3\n",
    "After evaluating all models with initial parameter grids, we selected the top-performing models for further optimization.\n",
    "\n",
    "In this section, we perform a deeper hyperparameter search on these models, using larger parameter grids. \n",
    "This allows us to explore the parameter space more thoroughly and potentially improve the model's performance."
   ]
  },
  {
   "cell_type": "code",
   "execution_count": null,
   "metadata": {},
   "outputs": [],
   "source": [
    "# Deep param grids for hyperparameter tuning\n",
    "param_grids_deep = {\n",
    "    \"Logistic Regression\": {\n",
    "        \"classifier__C\": [0.01, 0.1, 1, 10, 100],\n",
    "        \"classifier__penalty\": [\n",
    "            \"l1\",\n",
    "            \"l2\",\n",
    "            \"elasticnet\",\n",
    "            \"none\",\n",
    "        ],  # 'elasticnet' requires saga solver\n",
    "        \"classifier__solver\": [\"lbfgs\", \"saga\", \"liblinear\"],\n",
    "        \"classifier__max_iter\": [100, 500, 1000],\n",
    "        \"classifier__l1_ratio\": [0, 0.5, 1],  # Only used if penalty='elasticnet'\n",
    "    },\n",
    "    \"SVC\": {\n",
    "        \"classifier__C\": [0.1, 1, 10, 100],\n",
    "        \"classifier__kernel\": [\"linear\", \"rbf\", \"poly\"],\n",
    "        \"classifier__gamma\": [\"scale\", \"auto\"],\n",
    "        \"classifier__degree\": [2, 3, 4],  # Only relevant for 'poly' kernel\n",
    "        \"classifier__coef0\": [0.0, 0.1, 0.5],  # For 'poly' and 'sigmoid' kernels\n",
    "    },\n",
    "    \"KNN\": {\n",
    "        \"classifier__n_neighbors\": [3, 5, 7, 9, 11],\n",
    "        \"classifier__weights\": [\"uniform\", \"distance\"],\n",
    "        \"classifier__p\": [1, 2],  # 1 = Manhattan, 2 = Euclidean\n",
    "        \"classifier__algorithm\": [\"auto\", \"ball_tree\", \"kd_tree\", \"brute\"],\n",
    "    },\n",
    "    \"Random Forest\": {\n",
    "        \"classifier__n_estimators\": [100, 200, 500],\n",
    "        \"classifier__max_depth\": [None, 10, 20, 30],\n",
    "        \"classifier__min_samples_split\": [2, 5, 10],\n",
    "        \"classifier__min_samples_leaf\": [1, 2, 4],\n",
    "        \"classifier__max_features\": [\"auto\", \"sqrt\", \"log2\"],\n",
    "        \"classifier__bootstrap\": [True, False],\n",
    "        \"classifier__criterion\": [\"gini\", \"entropy\"],\n",
    "    },\n",
    "    \"XGBoost\": {\n",
    "        \"classifier__n_estimators\": [100, 200, 500],\n",
    "        \"classifier__max_depth\": [3, 5, 7, 10],\n",
    "        \"classifier__learning_rate\": [0.01, 0.05, 0.1, 0.2],\n",
    "        \"classifier__subsample\": [0.6, 0.8, 1.0],\n",
    "        \"classifier__colsample_bytree\": [0.6, 0.8, 1.0],\n",
    "        \"classifier__gamma\": [0, 0.1, 0.2, 0.3],\n",
    "        \"classifier__reg_alpha\": [0, 0.1, 0.5],\n",
    "        \"classifier__reg_lambda\": [1, 1.5, 2],\n",
    "    },\n",
    "    \"LightGBM\": {\n",
    "        \"classifier__n_estimators\": [100, 200, 500],\n",
    "        \"classifier__max_depth\": [-1, 10, 20, 30],\n",
    "        \"classifier__learning_rate\": [0.01, 0.05, 0.1, 0.2],\n",
    "        \"classifier__num_leaves\": [31, 50, 100, 150],\n",
    "        \"classifier__subsample\": [0.6, 0.8, 1.0],\n",
    "        \"classifier__colsample_bytree\": [0.6, 0.8, 1.0],\n",
    "        \"classifier__min_child_samples\": [20, 30, 50],\n",
    "        \"classifier__reg_alpha\": [0, 0.1, 0.5],\n",
    "        \"classifier__reg_lambda\": [1, 1.5, 2],\n",
    "    },\n",
    "    \"CatBoost\": {\n",
    "        \"classifier__iterations\": [200, 500, 1000],\n",
    "        \"classifier__depth\": [4, 6, 8, 10],\n",
    "        \"classifier__learning_rate\": [0.01, 0.05, 0.1, 0.2],\n",
    "        \"classifier__l2_leaf_reg\": [1, 3, 5, 7, 9],\n",
    "        \"classifier__bagging_temperature\": [0, 0.5, 1],\n",
    "        \"classifier__border_count\": [32, 50, 100],\n",
    "        \"classifier__random_strength\": [1, 2, 3],\n",
    "    },\n",
    "}"
   ]
  },
  {
   "cell_type": "code",
   "execution_count": null,
   "metadata": {},
   "outputs": [],
   "source": [
    "# Select top 3 model names based on Test Accuracy\n",
    "top3_models = df_results.head(3)[\"Model\"].tolist()\n",
    "\n",
    "print(\"Top 3 models for deep tuning:\", top3_models)"
   ]
  },
  {
   "cell_type": "code",
   "execution_count": null,
   "metadata": {},
   "outputs": [],
   "source": [
    "# Maak een subset van pipelines voor deep tuning\n",
    "pipelines_deep = {name: pipelines[name] for name in top3_models}\n",
    "\n",
    "# En een subset van param_grids_deep (als je die hebt) voor deze modellen\n",
    "param_grids_deep_subset = {name: param_grids_deep[name] for name in top3_models}\n",
    "\n",
    "results_deep = {}\n",
    "\n",
    "for name, pipeline in pipelines_deep.items():\n",
    "    print(f\"===== Deep tuning {name} =====\")\n",
    "    param_grid = param_grids_deep_subset[name]\n",
    "\n",
    "    grid, best_params, best_score = run_grid_search(\n",
    "        pipeline, param_grid, X_train, y_train\n",
    "    )\n",
    "\n",
    "    plot_learning_curve(\n",
    "        grid.best_estimator_, X_train, y_train, f\"Learning Curve - {name} (Deep tuning)\"\n",
    "    )\n",
    "\n",
    "    y_pred = grid.best_estimator_.predict(X_test)\n",
    "    test_acc = accuracy_score(y_test, y_pred)\n",
    "    print(f\"Test Accuracy {name} (Deep tuning): {test_acc}\")\n",
    "    print(classification_report(y_test, y_pred))\n",
    "    print()\n",
    "\n",
    "    # Save results\n",
    "    results_deep[name] = {\n",
    "        \"best_estimator\": grid.best_estimator_,\n",
    "        \"best_params\": best_params,\n",
    "        \"best_cv_score\": best_score,\n",
    "        \"test_accuracy\": test_acc,\n",
    "    }"
   ]
  },
  {
   "cell_type": "markdown",
   "metadata": {},
   "source": [
    "### 4.5 Cross-validation scores of the three best models"
   ]
  },
  {
   "cell_type": "code",
   "execution_count": null,
   "metadata": {},
   "outputs": [],
   "source": [
    "for name in top3_models:\n",
    "    scores = cross_val_score(\n",
    "        results_deep[name][\"best_estimator\"], X_train, y_train, cv=5, scoring=\"accuracy\"\n",
    "    )\n",
    "    print(f\"Cross-val scores for deep tuned {name}: {scores}\")\n",
    "    print(f\"Mean CV score: {scores.mean()}\")"
   ]
  },
  {
   "cell_type": "markdown",
   "metadata": {},
   "source": [
    "## 5. Model evaluation and comparison"
   ]
  },
  {
   "cell_type": "code",
   "execution_count": null,
   "metadata": {},
   "outputs": [],
   "source": [
    "# Start with initial results\n",
    "combined_results = results.copy()\n",
    "\n",
    "# Overwrite with deep tuned results for top models\n",
    "for model_name in results_deep:\n",
    "    combined_results[model_name] = results_deep[model_name]\n",
    "\n",
    "# Create DataFrame for plotting\n",
    "df_combined = pd.DataFrame([\n",
    "    {\n",
    "        \"Model\": name,\n",
    "        \"Best CV Score\": res[\"best_cv_score\"],\n",
    "        \"Test Accuracy\": res[\"test_accuracy\"]\n",
    "    }\n",
    "    for name, res in combined_results.items()\n",
    "])\n",
    "\n",
    "# Sort for better visualization\n",
    "df_combined = df_combined.sort_values(\"Test Accuracy\", ascending=False).reset_index(drop=True)"
   ]
  },
  {
   "cell_type": "markdown",
   "metadata": {},
   "source": [
    "### 5.1 Plot test accuracy per model"
   ]
  },
  {
   "cell_type": "code",
   "execution_count": null,
   "metadata": {},
   "outputs": [],
   "source": [
    "# Plot\n",
    "plt.figure(figsize=(10, 6))\n",
    "\n",
    "sns.barplot(\n",
    "    data=df_combined.sort_values(\"Test Accuracy\", ascending=False),\n",
    "    x=\"Test Accuracy\",\n",
    "    y=\"Model\",\n",
    "    palette=\"viridis\",\n",
    ")\n",
    "\n",
    "plt.title(\"Test Accuracy per Model\")\n",
    "plt.xlim(0, 1)\n",
    "plt.xlabel(\"Test Accuracy\")\n",
    "plt.ylabel(\"Model\")\n",
    "plt.grid(axis=\"x\")\n",
    "plt.show()"
   ]
  },
  {
   "cell_type": "markdown",
   "metadata": {},
   "source": [
    "### 5.2 Plot generalization performance per model"
   ]
  },
  {
   "cell_type": "code",
   "execution_count": null,
   "metadata": {},
   "outputs": [],
   "source": [
    "# Plot CV vs Test\n",
    "plt.figure(figsize=(8, 6))\n",
    "sns.scatterplot(\n",
    "    data=df_combined,\n",
    "    x=\"Best CV Score\",\n",
    "    y=\"Test Accuracy\",\n",
    "    hue=\"Model\",\n",
    "    s=100,\n",
    ")\n",
    "plt.title(\"CV Score vs Test Accuracy per Model\")\n",
    "plt.xlim(0, 1)\n",
    "plt.ylim(0, 1)\n",
    "plt.grid()\n",
    "plt.show()"
   ]
  },
  {
   "cell_type": "markdown",
   "metadata": {},
   "source": [
    "### 5.3 Plot feature importances"
   ]
  },
  {
   "cell_type": "code",
   "execution_count": null,
   "metadata": {},
   "outputs": [],
   "source": [
    "def plot_feature_importance(model, model_name, top_n=20):\n",
    "    \"\"\"\n",
    "    Plot de top_n feature importances of coëfficiënten van een pipeline model.\n",
    "\n",
    "    Args:\n",
    "        model (sklearn.pipeline.Pipeline): getraind pipeline model met preprocessor en classifier\n",
    "        model_name (str): naam van het model (voor titel)\n",
    "        top_n (int): aantal top features om te plotten\n",
    "    \"\"\"\n",
    "    # Extract preprocessor en classifier\n",
    "    preprocessor = model.named_steps[\"preprocessor\"]\n",
    "    classifier = model.named_steps[\"classifier\"]\n",
    "    \n",
    "    # Feature namen ophalen\n",
    "    feature_names = preprocessor.get_feature_names_out()\n",
    "    \n",
    "    # Feature importance ophalen afhankelijk van model type\n",
    "    if hasattr(classifier, \"feature_importances_\"):\n",
    "        importances = classifier.feature_importances_\n",
    "    elif hasattr(classifier, \"coef_\"):\n",
    "        importances = classifier.coef_[0]\n",
    "    else:\n",
    "        print(f\"Feature importance niet beschikbaar voor {model_name}\")\n",
    "        return\n",
    "    \n",
    "    # DataFrame maken met feature + importance\n",
    "    df = pd.DataFrame({\n",
    "        \"Feature\": feature_names,\n",
    "        \"Importance\": importances if hasattr(classifier, \"feature_importances_\") else importances\n",
    "    })\n",
    "    \n",
    "    # Bij coëfficiënten kan je absolute waarde nemen voor sorteren\n",
    "    if hasattr(classifier, \"coef_\"):\n",
    "        df[\"AbsImportance\"] = df[\"Importance\"].abs()\n",
    "        df = df.sort_values(\"AbsImportance\", ascending=False).head(top_n)\n",
    "    else:\n",
    "        df = df.sort_values(\"Importance\", ascending=False).head(top_n)\n",
    "    \n",
    "    plt.figure(figsize=(10, 6))\n",
    "    sns.barplot(\n",
    "        data=df,\n",
    "        x=\"Importance\" if hasattr(classifier, \"feature_importances_\") else \"Importance\",\n",
    "        y=\"Feature\",\n",
    "        palette=\"viridis\"\n",
    "    )\n",
    "    plt.title(f\"Top {top_n} Feature Importance - {model_name}\")\n",
    "    plt.tight_layout()\n",
    "    plt.show()"
   ]
  },
  {
   "cell_type": "markdown",
   "metadata": {},
   "source": [
    "We plot the feature importances of the top 20 features for our top 3 models:\n",
    "1. Random Forest\n",
    "2. XGBoost\n",
    "3. Logistic Regression "
   ]
  },
  {
   "cell_type": "code",
   "execution_count": null,
   "metadata": {},
   "outputs": [],
   "source": [
    "plot_feature_importance(results_deep[\"Random Forest\"][\"best_estimator_\"], \"Random Forest\")\n",
    "plot_feature_importance(results_deep[\"XGBoost\"][\"best_estimator_\"], \"XGBoost\")\n",
    "plot_feature_importance(results_deep[\"Logistic Regression\"][\"best_estimator_\"], \"Logistic Regression\")"
   ]
  },
  {
   "cell_type": "markdown",
   "metadata": {},
   "source": [
    "## 6. Extra analysis "
   ]
  },
  {
   "cell_type": "markdown",
   "metadata": {},
   "source": [
    "### 6.1 Feature Selection\n",
    "We explored whether we can achieve good performance using only a subset of the most important features.\n",
    "\n",
    "#### 6.1.1 Feature Importance\n",
    "\n",
    "Zoals eerder getoond in sectie 5.3, illustreren de feature importance plots van onze beste modellen duidelijk welke features het meest bijdragen aan de classificatie van paddenstoelen. Deze inzichten vormden de basis voor verdere feature selectie, waarbij we onderzochten of het mogelijk is om met een subset van deze belangrijkste features vergelijkbare modelprestaties te behalen."
   ]
  },
  {
   "cell_type": "markdown",
   "metadata": {},
   "source": [
    "#### 6.1.2 Select KBest\n",
    "Om te onderzoeken of het mogelijk is om met een kleinere subset van features vergelijkbare prestaties te behalen, gebruikten we SelectKBest op basis van mutual information.\n",
    "\n",
    "We trainden voor de top 3 modellen nieuwe pipelines waarbij we slechts de top N features selecteerden met SelectKBest.\n",
    "\n",
    "De onderstaande resultaten en learning curves vergelijken de prestaties van het volledige model met die van het SelectKBest-model.\n",
    "\n",
    "Dit laat zien dat het gebruik van minder features vaak geen significant prestatieverlies oplevert, wat kan leiden tot snellere en eenvoudigere modellen."
   ]
  },
  {
   "cell_type": "code",
   "execution_count": null,
   "metadata": {},
   "outputs": [],
   "source": [
    "def create_pipeline_with_kbest(\n",
    "    numerical_cols, categorical_cols, classifier, encoder_type=\"onehot\", k=10\n",
    "):\n",
    "    \"\"\"\n",
    "    Maakt een sklearn pipeline met preprocessing, SelectKBest feature selectie, en classifier.\n",
    "\n",
    "    Args:\n",
    "        numerical_cols (list of str): lijst met numerieke feature namen.\n",
    "        categorical_cols (list of str): lijst met categorische feature namen.\n",
    "        classifier (estimator): sklearn classifier instance.\n",
    "        encoder_type (str): 'onehot' of 'ordinal', default 'onehot'.\n",
    "        k (int): aantal features om te selecteren via SelectKBest.\n",
    "\n",
    "    Returns:\n",
    "        sklearn.pipeline.Pipeline: pipeline met preprocessing, feature selectie en classifier.\n",
    "    \"\"\"\n",
    "\n",
    "    if encoder_type == \"onehot\":\n",
    "        cat_encoder = OneHotEncoder(handle_unknown=\"ignore\")\n",
    "    elif encoder_type == \"ordinal\":\n",
    "        cat_encoder = OrdinalEncoder(\n",
    "            handle_unknown=\"use_encoded_value\", unknown_value=-1\n",
    "        )\n",
    "    else:\n",
    "        raise ValueError(f\"Unknown encoder type: {encoder_type}\")\n",
    "\n",
    "    preprocessor = ColumnTransformer(\n",
    "        transformers=[\n",
    "            (\"num\", StandardScaler(), numerical_cols),\n",
    "            (\"cat\", cat_encoder, categorical_cols),\n",
    "        ]\n",
    "    )\n",
    "\n",
    "    # Feature selector\n",
    "    selector = SelectKBest(score_func=mutual_info_classif, k=k)\n",
    "\n",
    "    pipeline = Pipeline(\n",
    "        steps=[\n",
    "            (\"preprocessor\", preprocessor),\n",
    "            (\"selector\", selector),\n",
    "            (\"classifier\", classifier),\n",
    "        ]\n",
    "    )\n",
    "\n",
    "    return pipeline"
   ]
  },
  {
   "cell_type": "code",
   "execution_count": null,
   "metadata": {},
   "outputs": [],
   "source": [
    "# Stel k in (aantal features)\n",
    "k_features = 19\n",
    "\n",
    "# Maak SelectKBest pipelines voor top 3 modellen\n",
    "pipelines_kbest = {}\n",
    "\n",
    "for model_name in top3_models:\n",
    "    # Pak originele classifier uit pipeline\n",
    "    orig_clf = pipelines[model_name].named_steps[\"classifier\"]\n",
    "    encoder_type = \"ordinal\" if model_name in [\"Random Forest\", \"XGBoost\", \"LightGBM\", \"CatBoost\"] else \"onehot\"\n",
    "\n",
    "    pipelines_kbest[model_name] = create_pipeline_with_kbest(\n",
    "        numerical_cols,\n",
    "        categorical_cols,\n",
    "        classifier=orig_clf,\n",
    "        encoder_type=encoder_type,\n",
    "        k=k_features,\n",
    "    )\n",
    "\n",
    "# Definieer eventueel simpele param grids, bv alleen k vast voor nu\n",
    "param_grids_kbest = {\n",
    "    model_name: {\"classifier__n_estimators\": [100, 200]} if \"Forest\" in model_name or \"Boost\" in model_name else {}\n",
    "    for model_name in top3_models\n",
    "}\n",
    "\n",
    "results_kbest = {}\n",
    "\n",
    "# Train + tune + evaluatie\n",
    "for name, pipe in pipelines_kbest.items():\n",
    "    print(f\"===== SelectKBest tuning {name} =====\")\n",
    "    param_grid = param_grids_kbest.get(name, {})\n",
    "    \n",
    "    grid, best_params, best_score = run_grid_search(pipe, param_grid, X_train, y_train)\n",
    "    \n",
    "    plot_learning_curve(grid.best_estimator_, X_train, y_train, f\"Learning Curve - {name} with SelectKBest\")\n",
    "    \n",
    "    y_pred = grid.best_estimator_.predict(X_test)\n",
    "    test_acc = accuracy_score(y_test, y_pred)\n",
    "    \n",
    "    print(f\"Test Accuracy {name} (SelectKBest): {test_acc}\")\n",
    "    print(classification_report(y_test, y_pred))\n",
    "    print()\n",
    "    \n",
    "    results_kbest[name] = {\n",
    "        \"best_estimator\": grid.best_estimator_,\n",
    "        \"best_params\": best_params,\n",
    "        \"best_cv_score\": best_score,\n",
    "        \"test_accuracy\": test_acc,\n",
    "    }"
   ]
  },
  {
   "cell_type": "code",
   "execution_count": null,
   "metadata": {},
   "outputs": [],
   "source": [
    "for model_name in top3_models:\n",
    "    full_acc = results[model_name][\"test_accuracy\"]\n",
    "    kbest_acc = results_kbest[model_name][\"test_accuracy\"]\n",
    "    print(f\"{model_name} full features accuracy: {full_acc:.4f}\")\n",
    "    print(f\"{model_name} SelectKBest accuracy: {kbest_acc:.4f}\")\n",
    "    print()"
   ]
  },
  {
   "cell_type": "code",
   "execution_count": null,
   "metadata": {},
   "outputs": [],
   "source": [
    "def plot_learning_curve_compare(estimator_full, estimator_kbest, X_train, y_train, title, cv=5, scoring='accuracy'):\n",
    "    train_sizes, train_scores_full, test_scores_full = learning_curve(\n",
    "        estimator_full, X_train, y_train, cv=cv, scoring=scoring, \n",
    "        train_sizes=np.linspace(0.1, 1.0, 5), n_jobs=-1, shuffle=True, random_state=42\n",
    "    )\n",
    "    _, train_scores_kbest, test_scores_kbest = learning_curve(\n",
    "        estimator_kbest, X_train, y_train, cv=cv, scoring=scoring, \n",
    "        train_sizes=train_sizes, n_jobs=-1, shuffle=True, random_state=42\n",
    "    )\n",
    "    \n",
    "    train_scores_full_mean = train_scores_full.mean(axis=1)\n",
    "    test_scores_full_mean = test_scores_full.mean(axis=1)\n",
    "    train_scores_kbest_mean = train_scores_kbest.mean(axis=1)\n",
    "    test_scores_kbest_mean = test_scores_kbest.mean(axis=1)\n",
    "    \n",
    "    plt.figure(figsize=(10, 6))\n",
    "    plt.plot(train_sizes, train_scores_full_mean, 'o-', color='blue', label='Training score full features')\n",
    "    plt.plot(train_sizes, test_scores_full_mean, 'o-', color='blue', linestyle='--', label='CV score full features')\n",
    "    plt.plot(train_sizes, train_scores_kbest_mean, 'o-', color='green', label='Training score SelectKBest')\n",
    "    plt.plot(train_sizes, test_scores_kbest_mean, 'o-', color='green', linestyle='--', label='CV score SelectKBest')\n",
    "    plt.title(title)\n",
    "    plt.xlabel('Training examples')\n",
    "    plt.ylabel('Accuracy')\n",
    "    plt.legend(loc='best')\n",
    "    plt.grid()\n",
    "    plt.show()\n",
    "\n",
    "# Voorbeeld: vergelijk Random Forest full vs SelectKBest\n",
    "plot_learning_curve_compare(\n",
    "    results[\"Random Forest\"][\"best_estimator_\"],\n",
    "    results_kbest[\"Random Forest\"][\"best_estimator_\"],\n",
    "    X_train,\n",
    "    y_train,\n",
    "    \"Learning Curve Comparison - Random Forest\"\n",
    ")"
   ]
  },
  {
   "cell_type": "markdown",
   "metadata": {},
   "source": [
    "### 6.1.3 RFECV (Recursive Feature Elimination met Cross Validation)\n",
    "\n",
    "We gebruikten RFECV om automatisch het optimale aantal features te bepalen dat de beste cross-validatie nauwkeurigheid geeft.\n",
    "\n",
    "In bovenstaande grafiek zien we dat het model met ongeveer **[rfecv.n_features_]** features de hoogste nauwkeurigheid behaalt.\n",
    "\n",
    "Dit bevestigt dat niet alle features nodig zijn en dat een gereduceerde feature set vergelijkbare prestaties kan leveren als het volledige model.\n",
    "\n",
    "Door RFECV toe te passen kunnen we een eenvoudiger model bouwen dat mogelijk sneller traint en minder overfit.\n"
   ]
  },
  {
   "cell_type": "code",
   "execution_count": null,
   "metadata": {},
   "outputs": [],
   "source": [
    "# Example with Random Forest\n",
    "rf = RandomForestClassifier(random_state=42)\n",
    "\n",
    "# Preprocessing pipeline (OrdinalEncoder)\n",
    "preprocessor_rf = ColumnTransformer(\n",
    "    transformers=[\n",
    "        (\"num\", StandardScaler(), numerical_cols),\n",
    "        (\n",
    "            \"cat\",\n",
    "            OrdinalEncoder(handle_unknown=\"use_encoded_value\", unknown_value=-1),\n",
    "            categorical_cols,\n",
    "        ),\n",
    "    ]\n",
    ")\n",
    "\n",
    "# Preprocessing only\n",
    "X_train_preprocessed = preprocessor_rf.fit_transform(X_train)\n",
    "\n",
    "# RFECV\n",
    "rfecv = RFECV(estimator=rf, step=1, cv=5, scoring=\"accuracy\", n_jobs=-1)\n",
    "rfecv.fit(X_train_preprocessed, y_train)\n",
    "\n",
    "print(f\"Optimal number of features: {rfecv.n_features_}\")\n",
    "\n",
    "plt.figure(figsize=(10, 6))\n",
    "plt.title(\"RFECV - Number of features vs Cross-validation score\")\n",
    "plt.xlabel(\"Number of features selected\")\n",
    "plt.ylabel(\"Cross-validation score\")\n",
    "plt.plot(range(1, len(rfecv.grid_scores_) + 1), rfecv.grid_scores_)\n",
    "plt.grid()\n",
    "plt.show()"
   ]
  },
  {
   "cell_type": "code",
   "execution_count": null,
   "metadata": {},
   "outputs": [],
   "source": [
    "# Sla geselecteerde features op\n",
    "selected_features_mask = rfecv.support_\n",
    "\n",
    "# Filter X_train en X_test met geselecteerde features\n",
    "X_train_selected = X_train_preprocessed[:, selected_features_mask]\n",
    "X_test_preprocessed = preprocessor_rf.transform(X_test)\n",
    "X_test_selected = X_test_preprocessed[:, selected_features_mask]\n",
    "\n",
    "# Train model met geselecteerde features\n",
    "rf_selected = RandomForestClassifier(random_state=42)\n",
    "rf_selected.fit(X_train_selected, y_train)\n",
    "\n",
    "# Evaluatie\n",
    "y_pred_selected = rf_selected.predict(X_test_selected)\n",
    "print(f\"Test accuracy met RFECV features: {accuracy_score(y_test, y_pred_selected):.4f}\")"
   ]
  },
  {
   "cell_type": "markdown",
   "metadata": {},
   "source": [
    "#### 6.1.4: Conclusion Feature Selection\n",
    "\n",
    "Met RFECV hebben we automatisch het optimale aantal features geselecteerd dat de hoogste cross-validatie nauwkeurigheid oplevert. Dit aantal lag rond de [vul hier het aantal in, bv. 15] features.\n",
    "\n",
    "Het trainen van een model met deze subset aan features gaf een test accuracy die dicht bij die van het volledige model ligt, wat aangeeft dat veel features redundant zijn en we met minder inputdata vergelijkbare prestaties kunnen behalen.\n",
    "\n",
    "Door feature selectie met RFECV toe te passen, kunnen we het model eenvoudiger en mogelijk robuuster maken, terwijl we toch een goede voorspelling behouden.\n"
   ]
  },
  {
   "cell_type": "markdown",
   "metadata": {},
   "source": [
    "### 6.2 Gecombineerde modellen \n",
    "We investigated whether combining multiple models can lead to better performance.\n"
   ]
  },
  {
   "cell_type": "markdown",
   "metadata": {},
   "source": [
    "#### 6.2.1 StackingClassifier\n",
    "We used a StackingClassifier to combine the best models we identified in the previous sections.\n",
    "\n",
    "**Models used in stack**:\n",
    "\n",
    "- Random Forest\n",
    "- XGBoost\n",
    "- SVC\n",
    "\n",
    "Final estimator: Logistic Regression.\n",
    "\n",
    "*(Include accuracy and learning curve comparison here: full model vs StackingClassifier model)*"
   ]
  },
  {
   "cell_type": "code",
   "execution_count": null,
   "metadata": {},
   "outputs": [],
   "source": [
    "estimators = [(\"rf\", pipeline_rf), (\"xgb\", pipeline_xgb), (\"svc\", pipeline_svc)]\n",
    "\n",
    "stacking_clf = StackingClassifier(\n",
    "    estimators=estimators, final_estimator=LogisticRegression(), passthrough=True\n",
    ")\n",
    "\n",
    "# Train the StackingClassifier\n",
    "stacking_clf.fit(X_train, y_train)\n",
    "\n",
    "# Evaluate the StackingClassifier\n",
    "y_pred_stack = stacking_clf.predict(X_test)\n",
    "\n",
    "print(\"StackingClassifier Test Accuracy:\", accuracy_score(y_test, y_pred_stack))\n",
    "print(classification_report(y_test, y_pred_stack))"
   ]
  },
  {
   "cell_type": "markdown",
   "metadata": {},
   "source": [
    "#### 6.2.2 VotingClassifier\n",
    "We used a VotingClassifier to combine the best models we identified in the previous sections.\n",
    "\n",
    "**Models used in voting**:\n",
    "\n",
    "- Random Forest\n",
    "- XGBoost\n",
    "- SVC\n",
    "\n",
    "*(Include accuracy and learning curve comparison here: full model vs VotingClassifier model)*"
   ]
  },
  {
   "cell_type": "code",
   "execution_count": null,
   "metadata": {},
   "outputs": [],
   "source": [
    "voting_clf = VotingClassifier(\n",
    "    estimators=[(\"rf\", pipeline_rf), (\"xgb\", pipeline_xgb), (\"svc\", pipeline_svc)],\n",
    "    voting=\"soft\",\n",
    ")\n",
    "\n",
    "voting_clf.fit(X_train, y_train)\n",
    "\n",
    "y_pred_voting = voting_clf.predict(X_test)\n",
    "\n",
    "print(\"VotingClassifier Test Accuracy:\", accuracy_score(y_test, y_pred_voting))\n",
    "print(classification_report(y_test, y_pred_voting))"
   ]
  },
  {
   "cell_type": "markdown",
   "metadata": {},
   "source": [
    "#### 6.2.3 Conclusie gecombineerde modellen\n",
    "\n",
    "*(Write a small conclusion: \"Stacking did / did not improve over the best individual model\", etc.)*"
   ]
  },
  {
   "cell_type": "markdown",
   "metadata": {},
   "source": [
    "## 7. Final Conclusion\n",
    "\n",
    "In this project, I built and optimized multiple machine learning models to classify mushrooms as edible or poisonous, based on various physical characteristics.\n",
    "\n",
    "I implemented a modular approach using sklearn Pipelines, reusable tuning and evaluation functions, and consistent workflows across models. \n",
    "\n",
    "The models were optimized using GridSearchCV and further evaluated using learning curves to analyze generalization performance.\n",
    "\n",
    "### Model Comparison\n",
    "\n",
    "After initial tuning, the top-performing models were:\n",
    "- [Model X] with a test accuracy of X%\n",
    "- [Model Y] with a test accuracy of Y%\n",
    "- [Model Z] with a test accuracy of Z%\n",
    "\n",
    "I then performed deep hyperparameter tuning on the best models, which further improved performance in some cases.\n",
    "\n",
    "### Feature Selection & Model Combination\n",
    "\n",
    "I explored feature selection techniques (SelectKBest, RFECV) to assess whether all features were necessary. \n",
    "The results indicated that a reduced feature set could still achieve comparable performance, suggesting some redundancy in the original feature set.\n",
    "\n",
    "Additionally, I experimented with model combination techniques (VotingClassifier, StackingClassifier), which provided competitive results, though not significantly better than the best individual boosting model.\n",
    "\n",
    "### Final Model Choice\n",
    "\n",
    "Based on cross-validation performance, test accuracy, and model simplicity, the final recommended model is:\n",
    "**[Your Chosen Final Model]** with a test accuracy of **X%**.\n",
    "\n",
    "*Overall, this project demonstrated that with proper preprocessing, optimization, and model evaluation, high accuracy can be achieved on this classification task.*"
   ]
  },
  {
   "cell_type": "code",
   "execution_count": null,
   "metadata": {},
   "outputs": [],
   "source": [
    "# Initial tuning results → results dict\n",
    "df_results = pd.DataFrame(\n",
    "    [\n",
    "        {\n",
    "            \"Model\": name,\n",
    "            \"Best CV Score\": result[\"best_cv_score\"],\n",
    "            \"Test Accuracy\": result[\"test_accuracy\"],\n",
    "        }\n",
    "        for name, result in results.items()\n",
    "    ]\n",
    ")\n",
    "\n",
    "df_results = df_results.sort_values(\"Test Accuracy\", ascending=False).reset_index(\n",
    "    drop=True\n",
    ")\n",
    "\n",
    "print(\"=== Initial Tuning Results ===\")\n",
    "display(df_results)"
   ]
  },
  {
   "cell_type": "code",
   "execution_count": null,
   "metadata": {},
   "outputs": [],
   "source": [
    "# Deep tuning results → results_deep dict\n",
    "df_results_deep = pd.DataFrame(\n",
    "    [\n",
    "        {\n",
    "            \"Model\": name,\n",
    "            \"Best CV Score\": result[\"best_cv_score\"],\n",
    "            \"Test Accuracy\": result[\"test_accuracy\"],\n",
    "        }\n",
    "        for name, result in results_deep.items()\n",
    "    ]\n",
    ")\n",
    "\n",
    "df_results_deep = df_results_deep.sort_values(\n",
    "    \"Test Accuracy\", ascending=False\n",
    ").reset_index(drop=True)\n",
    "\n",
    "print(\"=== Deep Tuning Results ===\")\n",
    "display(df_results_deep)"
   ]
  }
 ],
 "metadata": {
  "kernelspec": {
   "display_name": ".venv",
   "language": "python",
   "name": "python3"
  },
  "language_info": {
   "codemirror_mode": {
    "name": "ipython",
    "version": 3
   },
   "file_extension": ".py",
   "mimetype": "text/x-python",
   "name": "python",
   "nbconvert_exporter": "python",
   "pygments_lexer": "ipython3",
   "version": "3.12.9"
  }
 },
 "nbformat": 4,
 "nbformat_minor": 4
}
